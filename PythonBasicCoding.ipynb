{
  "nbformat": 4,
  "nbformat_minor": 0,
  "metadata": {
    "colab": {
      "provenance": []
    },
    "kernelspec": {
      "name": "python3",
      "display_name": "Python 3"
    },
    "language_info": {
      "name": "python"
    }
  },
  "cells": [
    {
      "cell_type": "code",
      "execution_count": null,
      "metadata": {
        "colab": {
          "base_uri": "https://localhost:8080/"
        },
        "id": "1yDyn-gPR8dD",
        "outputId": "d35ff859-d821-43ec-f935-169b68cf52cf"
      },
      "outputs": [
        {
          "output_type": "stream",
          "name": "stdout",
          "text": [
            "Python version: 3.10.12 (main, Jun 11 2023, 05:26:28) [GCC 11.4.0]\n",
            "Pandas Version: 1.5.3\n"
          ]
        },
        {
          "output_type": "execute_result",
          "data": {
            "text/plain": [
              "0    sun\n",
              "1    mon\n",
              "2    tue\n",
              "3    wed\n",
              "4    thu\n",
              "5    fri\n",
              "6    sat\n",
              "dtype: object"
            ]
          },
          "metadata": {},
          "execution_count": 7
        }
      ],
      "source": [
        "import pandas as pd\n",
        "import sys\n",
        "print('Python version: ' +sys.version)\n",
        "print ('Pandas Version: ' + pd.__version__)\n",
        "data = ['sun',\n",
        "        'mon',\n",
        "        'tue',\n",
        "        'wed',\n",
        "        'thu',\n",
        "        'fri',\n",
        "        'sat']\n",
        "week = pd.Series(data)\n",
        "week"
      ]
    },
    {
      "cell_type": "code",
      "source": [
        "import numpy as np\n",
        "square_number = np.array([0, 1, 4, 9, 16,\n",
        "                          25, 36, 49, 64, 81,\n",
        "                          100, 121, 144, 169])\n",
        "square_series = pd.Series(square_number)\n",
        "square_series"
      ],
      "metadata": {
        "colab": {
          "base_uri": "https://localhost:8080/"
        },
        "id": "1543enEaTePk",
        "outputId": "391bd440-484e-4270-9810-f04eb853ab81"
      },
      "execution_count": null,
      "outputs": [
        {
          "output_type": "execute_result",
          "data": {
            "text/plain": [
              "0       0\n",
              "1       1\n",
              "2       4\n",
              "3       9\n",
              "4      16\n",
              "5      25\n",
              "6      36\n",
              "7      49\n",
              "8      64\n",
              "9      81\n",
              "10    100\n",
              "11    121\n",
              "12    144\n",
              "13    169\n",
              "dtype: int64"
            ]
          },
          "metadata": {},
          "execution_count": 9
        }
      ]
    },
    {
      "cell_type": "code",
      "source": [
        "import pandas as pd\n",
        "employee_fields = ['F_Name', 'L_Name', 'Emp_ID', 'Dept']\n",
        "employee_data = ['Susie','Schneider','2258788','Accounting']\n",
        "employee_series = pd.Series(index = employee_fields,\n",
        "                            data = employee_data)\n",
        "employee_series"
      ],
      "metadata": {
        "colab": {
          "base_uri": "https://localhost:8080/"
        },
        "id": "tHIxBQRtUYRi",
        "outputId": "d14b901c-1205-42db-99bb-c66236a69904"
      },
      "execution_count": null,
      "outputs": [
        {
          "output_type": "execute_result",
          "data": {
            "text/plain": [
              "F_Name         Susie\n",
              "L_Name     Schneider\n",
              "Emp_ID       2258788\n",
              "Dept      Accounting\n",
              "dtype: object"
            ]
          },
          "metadata": {},
          "execution_count": 11
        }
      ]
    }
  ]
}