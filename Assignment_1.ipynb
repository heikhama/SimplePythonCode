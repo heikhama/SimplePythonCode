{
  "nbformat": 4,
  "nbformat_minor": 0,
  "metadata": {
    "colab": {
      "provenance": []
    },
    "kernelspec": {
      "name": "python3",
      "display_name": "Python 3"
    },
    "language_info": {
      "name": "python"
    }
  },
  "cells": [
    {
      "cell_type": "code",
      "execution_count": 1,
      "metadata": {
        "colab": {
          "base_uri": "https://localhost:8080/"
        },
        "id": "koE_lpw3FOGB",
        "outputId": "6125f5d3-dd1a-44e3-d652-7aa7d33b24db"
      },
      "outputs": [
        {
          "output_type": "stream",
          "name": "stdout",
          "text": [
            "3\n",
            "15\n",
            "75\n",
            "375\n",
            "1875\n",
            "9375\n",
            "46875\n",
            "234375\n",
            "1171875\n",
            "5859375\n"
          ]
        }
      ],
      "source": [
        "# 1. Generate a geometric progression with initial value\n",
        "#    as 3 and the common factor as 5, up to 10 elements\n",
        "\n",
        "init = 3\n",
        "cf = 5\n",
        "num = 10\n",
        "for i in range(num):\n",
        "  gp = init * (cf ** i)\n",
        "  print(gp)\n"
      ]
    },
    {
      "cell_type": "code",
      "source": [
        "# 2. Generatea a arithmetic progression with initial value\n",
        "#    as 3 and the common difference as 5 up to 10 elements\n",
        "\n",
        "init = 3\n",
        "cdf = 5\n",
        "num = 10\n",
        "\n",
        "for i in range(num):\n",
        "  ap = 3 + i * cdf\n",
        "  print(ap)"
      ],
      "metadata": {
        "colab": {
          "base_uri": "https://localhost:8080/"
        },
        "id": "cEIuAkN6GRGD",
        "outputId": "f03a172d-3137-45b5-c9fc-816dcc4cb5ae"
      },
      "execution_count": 3,
      "outputs": [
        {
          "output_type": "stream",
          "name": "stdout",
          "text": [
            "3\n",
            "8\n",
            "13\n",
            "18\n",
            "23\n",
            "28\n",
            "33\n",
            "38\n",
            "43\n",
            "48\n"
          ]
        }
      ]
    },
    {
      "cell_type": "code",
      "source": [
        "import re\n",
        "adhaar_pattern = re.compile(r\"^[2-9]\\d{11}$\")\n",
        "# print(adhaar_pattern)\n",
        "adhaar_number = input(\"Enter Adhaar number\\n\")\n",
        "# print(adhaar_number)\n",
        "if not adhaar_pattern.match(adhaar_number):\n",
        "        print(\"wrong adhaar\")\n",
        "else:\n",
        "      print(\"Adhaar OK\")\n",
        ""
      ],
      "metadata": {
        "colab": {
          "base_uri": "https://localhost:8080/"
        },
        "id": "YUn8g3PVHAGM",
        "outputId": "8d3de547-79f4-4001-cbce-6d5239ab7646"
      },
      "execution_count": 12,
      "outputs": [
        {
          "output_type": "stream",
          "name": "stdout",
          "text": [
            "Enter Adhaar number\n",
            "456789761234\n",
            "Adhaar OK\n"
          ]
        }
      ]
    },
    {
      "cell_type": "code",
      "source": [
        "import re\n",
        "mobileno_pattern = re.compile(r'^\\d{10}$')\n",
        "mobile_number = input(\"Enter a 10-digit mobile number: \")\n",
        "if re.match(mobileno_pattern, mobile_number):\n",
        "        print(\"Mobile Number is correct\")\n",
        "else:\n",
        "        print(\"Mobile Number is not correct\")"
      ],
      "metadata": {
        "colab": {
          "base_uri": "https://localhost:8080/"
        },
        "id": "eI_6SPbnN04v",
        "outputId": "a1617022-e9fb-4d84-dd7b-f5ba81062c89"
      },
      "execution_count": 14,
      "outputs": [
        {
          "output_type": "stream",
          "name": "stdout",
          "text": [
            "Enter a 10-digit mobile number: 678665\n",
            "Mobile Number is not correct\n"
          ]
        }
      ]
    }
  ]
}