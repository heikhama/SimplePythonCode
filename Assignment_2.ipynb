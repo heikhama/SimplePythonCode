{
  "nbformat": 4,
  "nbformat_minor": 0,
  "metadata": {
    "colab": {
      "provenance": [],
      "authorship_tag": "ABX9TyPsCxE2Zy/L2fUpiYdGIDgX",
      "include_colab_link": true
    },
    "kernelspec": {
      "name": "python3",
      "display_name": "Python 3"
    },
    "language_info": {
      "name": "python"
    }
  },
  "cells": [
    {
      "cell_type": "markdown",
      "metadata": {
        "id": "view-in-github",
        "colab_type": "text"
      },
      "source": [
        "<a href=\"https://colab.research.google.com/github/heikhama/SimplePythonCode/blob/main/Assignment_2.ipynb\" target=\"_parent\"><img src=\"https://colab.research.google.com/assets/colab-badge.svg\" alt=\"Open In Colab\"/></a>"
      ]
    },
    {
      "cell_type": "code",
      "execution_count": null,
      "metadata": {
        "colab": {
          "base_uri": "https://localhost:8080/"
        },
        "id": "C9eUOlIUOpD8",
        "outputId": "2a730aa8-4179-4093-e373-0c5057e0a83d"
      },
      "outputs": [
        {
          "output_type": "stream",
          "name": "stdout",
          "text": [
            "Total number of vowels: {'a': 0, 'e': 1, 'i': 0, 'o': 2, 'u': 0}\n"
          ]
        }
      ],
      "source": [
        "# 1. Count the number of vowels in the given string using a dictionary\n",
        "\n",
        "input_string = \"Hello, World!\"\n",
        "vowel_counts = {'a': 0, 'e': 0, 'i': 0, 'o': 0, 'u': 0}\n",
        "string = input_string.lower()\n",
        "for char in string:\n",
        "        if char in vowel_counts:\n",
        "            # If the character is a vowel, increment its count in the dictionary\n",
        "            vowel_counts[char] += 1\n",
        "#  calculate the total vowel\n",
        "total_vowels = sum(vowel_counts.values())\n",
        "print(\"Total number of vowels:\", vowel_counts)"
      ]
    },
    {
      "cell_type": "code",
      "source": [
        "input_string = input(\"Enter The string\\n\")\n",
        "vowel_counts = {'a': 0, 'e': 0, 'i': 0, 'o': 0, 'u': 0}\n",
        "string = input_string.lower()\n",
        "for char in string:\n",
        "        if char in vowel_counts:\n",
        "            # If the character is a vowel, increment its count in the dictionary\n",
        "            vowel_counts[char] += 1\n",
        "#  calculate the total vowel\n",
        "total_vowels = sum(vowel_counts.values())\n",
        "print(\"Total number of vowels:\", vowel_counts)"
      ],
      "metadata": {
        "colab": {
          "base_uri": "https://localhost:8080/"
        },
        "id": "JfjyK-ewP_KZ",
        "outputId": "4f81f900-da96-43a3-f00c-671bb5b71c46"
      },
      "execution_count": null,
      "outputs": [
        {
          "output_type": "stream",
          "name": "stdout",
          "text": [
            "Enter The string\n",
            "Hello How are you doing, Hi I am fine \n",
            "Total number of vowels: {'a': 2, 'e': 3, 'i': 4, 'o': 4, 'u': 1}\n"
          ]
        }
      ]
    },
    {
      "cell_type": "code",
      "source": [
        "# Count the frequency of each character in the given string using a dictionary\n",
        "input_string = input(\"Enter The string\\n\")\n",
        "char_frequency = {}\n",
        "for char in input_string:\n",
        "  if char.isalnum():\n",
        "     char = char.lower()\n",
        "     if char in char_frequency:\n",
        "      char_frequency[char] += 1\n",
        "     else:\n",
        "      char_frequency[char] = 1\n",
        "for char, frequency in char_frequency.items():\n",
        "    print(f\"'{char}': {frequency}\")\n"
      ],
      "metadata": {
        "colab": {
          "base_uri": "https://localhost:8080/"
        },
        "id": "V-h1pG6tQNZT",
        "outputId": "24fa9876-ed78-4f75-d9f4-b728587c583d"
      },
      "execution_count": null,
      "outputs": [
        {
          "output_type": "stream",
          "name": "stdout",
          "text": [
            "Enter The string\n",
            "hello hi how are you, I am fine thank you\n",
            "'h': 4\n",
            "'e': 3\n",
            "'l': 2\n",
            "'o': 4\n",
            "'i': 3\n",
            "'w': 1\n",
            "'a': 3\n",
            "'r': 1\n",
            "'y': 2\n",
            "'u': 2\n",
            "'m': 1\n",
            "'f': 1\n",
            "'n': 2\n",
            "'t': 1\n",
            "'k': 1\n"
          ]
        }
      ]
    },
    {
      "cell_type": "code",
      "source": [
        "# Count the frequency of each character in the given string using a dictionary\n",
        "input_string = input(\"Enter The string\\n\")\n",
        "char_frequency = {}\n",
        "for char in input_string:\n",
        "  if char.isalnum():\n",
        "     char = char.lower()\n",
        "     if char in char_frequency:\n",
        "      char_frequency[char] += 1\n",
        "     else:\n",
        "      char_frequency[char] = 1\n",
        "for char, frequency in char_frequency.items():\n",
        "    print(f\"'{char}': {frequency}\")\n",
        "sorted_dict = dict(sorted(char_frequency.items(), key=lambda item: item[1]))\n",
        "print(sorted_dict)"
      ],
      "metadata": {
        "colab": {
          "base_uri": "https://localhost:8080/"
        },
        "id": "WOD-bVIvUcLR",
        "outputId": "9f91967f-a2f7-4bc1-d9b2-2af984d24c40"
      },
      "execution_count": null,
      "outputs": [
        {
          "output_type": "stream",
          "name": "stdout",
          "text": [
            "Enter The string\n",
            "Hi Hello How are guys, I am good and hope you are good too\n",
            "'h': 4\n",
            "'i': 2\n",
            "'e': 4\n",
            "'l': 2\n",
            "'o': 10\n",
            "'w': 1\n",
            "'a': 4\n",
            "'r': 2\n",
            "'g': 3\n",
            "'u': 2\n",
            "'y': 2\n",
            "'s': 1\n",
            "'m': 1\n",
            "'d': 3\n",
            "'n': 1\n",
            "'p': 1\n",
            "'t': 1\n",
            "{'w': 1, 's': 1, 'm': 1, 'n': 1, 'p': 1, 't': 1, 'i': 2, 'l': 2, 'r': 2, 'u': 2, 'y': 2, 'g': 3, 'd': 3, 'h': 4, 'e': 4, 'a': 4, 'o': 10}\n"
          ]
        }
      ]
    },
    {
      "cell_type": "code",
      "source": [
        "# Print the name of the company and the stock price using a dictionary\n",
        "\n",
        "stock_prices = {\n",
        "    \"Apple\": 150.25,\n",
        "    \"Microsoft\": 300.50,\n",
        "    \"Google\": 2800.75,\n",
        "    \"Amazon\": 3500.00,\n",
        "    \"Facebook\": 375.60\n",
        "}\n",
        "\n",
        "for company, price in stock_prices.items():\n",
        "    print(f\"Company: {company}, Stock Price: ${price:.2f}\")\n",
        "#Sorting the list of the dictionary\n",
        "sorted_dict = dict(sorted(stock_prices.items(), key=lambda item: item[1]))\n",
        "print(sorted_dict)"
      ],
      "metadata": {
        "colab": {
          "base_uri": "https://localhost:8080/"
        },
        "id": "PoMMjWxwSZut",
        "outputId": "c2b41288-1891-481e-8b8c-8f67e8ee26c6"
      },
      "execution_count": null,
      "outputs": [
        {
          "output_type": "stream",
          "name": "stdout",
          "text": [
            "Company: Apple, Stock Price: $150.25\n",
            "Company: Microsoft, Stock Price: $300.50\n",
            "Company: Google, Stock Price: $2800.75\n",
            "Company: Amazon, Stock Price: $3500.00\n",
            "Company: Facebook, Stock Price: $375.60\n",
            "{'Apple': 150.25, 'Microsoft': 300.5, 'Facebook': 375.6, 'Google': 2800.75, 'Amazon': 3500.0}\n"
          ]
        }
      ]
    },
    {
      "cell_type": "code",
      "source": [
        "# Store the student name, subject and marks using dictionary and a list\n",
        "student_records = []\n",
        "# function to add student records\n",
        "def add_student_record(name, subject, marks):\n",
        "    student_record = {\n",
        "        \"Name\": name,\n",
        "        \"Subject\": subject,\n",
        "        \"Marks\": marks\n",
        "    }\n",
        "    student_records.append(student_record)\n",
        "\n",
        "# Function to display all student records\n",
        "def display_student_records():\n",
        "    for record in student_records:\n",
        "        print(f\"Name: {record['Name']}, Subject: {record['Subject']}, Marks: {record['Marks']}\")\n",
        "\n",
        "# Add some sample student records\n",
        "add_student_record(\"John\", \"Math\", 90)\n",
        "add_student_record(\"Alice\", \"Science\", 88)\n",
        "add_student_record(\"Bob\", \"History\", 75)\n",
        "\n",
        "# Display all student records\n",
        "display_student_records()"
      ],
      "metadata": {
        "colab": {
          "base_uri": "https://localhost:8080/"
        },
        "id": "zvI81fPjTRSB",
        "outputId": "861a2ead-bfd9-4536-f513-1800fffb38de"
      },
      "execution_count": null,
      "outputs": [
        {
          "output_type": "stream",
          "name": "stdout",
          "text": [
            "Name: John, Subject: Math, Marks: 90\n",
            "Name: Alice, Subject: Science, Marks: 88\n",
            "Name: Bob, Subject: History, Marks: 75\n"
          ]
        }
      ]
    },
    {
      "cell_type": "code",
      "source": [
        "# Create a dictionary and sort the dictionary by its values\n",
        "# Create a dictionary\n",
        "my_dict = {\n",
        "    \"John\": 35,\n",
        "    \"Alice\": 28,\n",
        "    \"Bob\": 42,\n",
        "    \"Eve\": 19\n",
        "}\n",
        "\n",
        "# Sort the dictionary by values in ascending order\n",
        "sorted_dict = dict(sorted(my_dict.items(), key=lambda item: item[1]))\n",
        "\n",
        "# Display the sorted dictionary\n",
        "print(sorted_dict)"
      ],
      "metadata": {
        "colab": {
          "base_uri": "https://localhost:8080/"
        },
        "id": "dbrkorp3ULHV",
        "outputId": "5f3a6ab5-3da6-4f6c-cbff-f47789cd4b8f"
      },
      "execution_count": null,
      "outputs": [
        {
          "output_type": "stream",
          "name": "stdout",
          "text": [
            "{'Eve': 19, 'Alice': 28, 'John': 35, 'Bob': 42}\n"
          ]
        }
      ]
    }
  ]
}