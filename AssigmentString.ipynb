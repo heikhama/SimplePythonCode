{
  "nbformat": 4,
  "nbformat_minor": 0,
  "metadata": {
    "colab": {
      "provenance": []
    },
    "kernelspec": {
      "name": "python3",
      "display_name": "Python 3"
    },
    "language_info": {
      "name": "python"
    }
  },
  "cells": [
    {
      "cell_type": "code",
      "execution_count": null,
      "metadata": {
        "id": "w-6yWs4mWjo_"
      },
      "outputs": [],
      "source": [
        "# 1. Given the following strings,  newstrings = [\"great\", \"simple\", \"great\", \"this\", \"useful\", \"investing\", \"compounding\", \"investing\"]\n",
        "#    find the frequency of each word. Create a dictionary to count the frequency of each and print the word and frequency side by side. (Word      frequency counter)\n",
        "\n",
        "\n",
        "\n",
        "# 2. Write a function that takes a string as input and returns a compressed version of it. The compression should replace consecutive repeating characters with the character followed by the count.\n",
        "# For example, \"aaabbbbcc\" should become \"a3b4c2\".\n",
        "\n",
        "\n",
        "\n",
        "# 3. Implement a function that checks whether a given string contains only unique characters (no character appears more than once in the string). Return True if all characters are unique,\n",
        "# and False otherwise.\n",
        "\n",
        "\n",
        "\n",
        "# 4. Create a function that takes two strings as input and determines if one is a rotation of the other. For example, \"waterbottle\" is a rotation of \"erbottlewat\"\n",
        "\n",
        "\n",
        "\n",
        "# 5. Create a function that takes a string as input and returns an encrypted version of the string by shifting each character by a certain number of positions in the alphabet.\n",
        "# The shift value can be provided as an argument. Handle both lowercase and uppercase characters, as well as wrapping around the alphabet.\n",
        "\n"
      ]
    },
    {
      "cell_type": "code",
      "source": [
        "newstrings = [\"great\", \"simple\", \"great\", \"this\", \"useful\", \"investing\", \"compounding\", \"investing\"]\n",
        "for word in newstrings:\n",
        "  print(word)\n",
        "word_frequency = {}\n",
        "for word in newstrings:\n",
        "  if word.isalnum():\n",
        "     word = word.lower()\n",
        "     if word in word_frequency:\n",
        "      word_frequency[word] += 1\n",
        "     else:\n",
        "      word_frequency[word] = 1\n",
        "for word, frequency in word_frequency.items():\n",
        "    print(f\"'{word}': {frequency}\")\n",
        "sorted_dict = dict(sorted(word_frequency.items(), key=lambda item: item[1]))\n",
        "print(sorted_dict)"
      ],
      "metadata": {
        "id": "eBrpw0-qW0Q6",
        "outputId": "f0ddecf6-dd30-4fac-a1db-4bd1f9dcc507",
        "colab": {
          "base_uri": "https://localhost:8080/"
        }
      },
      "execution_count": 3,
      "outputs": [
        {
          "output_type": "stream",
          "name": "stdout",
          "text": [
            "great\n",
            "simple\n",
            "great\n",
            "this\n",
            "useful\n",
            "investing\n",
            "compounding\n",
            "investing\n",
            "'great': 2\n",
            "'simple': 1\n",
            "'this': 1\n",
            "'useful': 1\n",
            "'investing': 2\n",
            "'compounding': 1\n",
            "{'simple': 1, 'this': 1, 'useful': 1, 'compounding': 1, 'great': 2, 'investing': 2}\n"
          ]
        }
      ]
    },
    {
      "cell_type": "code",
      "source": [
        "newstrings = input(\"Give  a string or sentence\\n\")\n",
        "for char in newstrings:\n",
        "  print(char, end=\"\")\n",
        "char_frequency = {}\n",
        "for char in newstrings:\n",
        "  if char.isalnum():\n",
        "     char = char.lower()\n",
        "     if char in char_frequency:\n",
        "      char_frequency[char] += 1\n",
        "     else:\n",
        "      char_frequency[char] = 1\n",
        "for char, frequency in char_frequency.items():\n",
        "    print(f\"{char}{frequency}\", end=\"\")\n"
      ],
      "metadata": {
        "colab": {
          "base_uri": "https://localhost:8080/"
        },
        "id": "_OdNNnl-ZOzo",
        "outputId": "b1823e35-b482-4783-9775-a2a03168cbb0"
      },
      "execution_count": 10,
      "outputs": [
        {
          "output_type": "stream",
          "name": "stdout",
          "text": [
            "Give  a string or sentence\n",
            "hello sir how are you\n",
            "hello sir how are youh2e2l2o3s1i1r2w1a1y1u1"
          ]
        }
      ]
    },
    {
      "cell_type": "code",
      "source": [
        "newstrings = input(\"Give  a string or sentence\\n\")\n",
        "# for char in newstrings:\n",
        "#   print(char, end=\"\")\n",
        "char_frequency = {}\n",
        "for char in newstrings:\n",
        "  if char.isalnum():\n",
        "     char = char.lower()\n",
        "     if char in char_frequency:\n",
        "      char_frequency[char] += 1\n",
        "     else:\n",
        "      char_frequency[char] = 1\n",
        "for char, frequency in char_frequency.items():\n",
        "    print(f\"{char}{frequency}\", end=\"\")"
      ],
      "metadata": {
        "colab": {
          "base_uri": "https://localhost:8080/"
        },
        "id": "5pRbduCiarKY",
        "outputId": "756f59da-2aeb-40fd-a243-d4447d4d41f0"
      },
      "execution_count": 15,
      "outputs": [
        {
          "output_type": "stream",
          "name": "stdout",
          "text": [
            "Give  a string or sentence\n",
            "aaabbbbcc\n",
            "a3b4c2"
          ]
        }
      ]
    },
    {
      "cell_type": "code",
      "source": [
        "# 3. Implement a function that checks whether a given string contains only unique characters (no character appears more than once in the string). Return True if all characters are unique,\n",
        "# and False otherwise.\n",
        "\n",
        "newstrings = input(\"Give  a string\\n\")\n",
        "characterset = set(newstrings)\n",
        "for char in newstrings:\n",
        "  if(char in characterset):\n",
        "    print(\"NOT UNIQUE CHARACTER\")\n",
        "\n",
        "  else:\n",
        "    characterset.add(char)\n",
        "    print(\"Characters are Unique\")\n",
        "\n"
      ],
      "metadata": {
        "colab": {
          "base_uri": "https://localhost:8080/"
        },
        "id": "E4RB40w6c1rE",
        "outputId": "00cd98da-2f5c-4727-b802-2176ec02c7e3"
      },
      "execution_count": 22,
      "outputs": [
        {
          "output_type": "stream",
          "name": "stdout",
          "text": [
            "Give  a string\n",
            "hello\n",
            "NOT UNIQUE CHARACTER\n",
            "NOT UNIQUE CHARACTER\n",
            "NOT UNIQUE CHARACTER\n",
            "NOT UNIQUE CHARACTER\n",
            "NOT UNIQUE CHARACTER\n"
          ]
        }
      ]
    },
    {
      "cell_type": "code",
      "source": [
        "newstrings = input(\"Give  a string\\n\")\n",
        "\n",
        "if(len(newstrings) == len(set(newstrings))):\n",
        "  print(\"TRUE\")\n",
        "else:\n",
        "  print(\"FALSE\")\n",
        "  print(newstrings, end=\"\")"
      ],
      "metadata": {
        "colab": {
          "base_uri": "https://localhost:8080/"
        },
        "id": "TTSX9PDXfiUK",
        "outputId": "db2e36ad-dea7-46c0-aa77-2a3874a1cf25"
      },
      "execution_count": 26,
      "outputs": [
        {
          "output_type": "stream",
          "name": "stdout",
          "text": [
            "Give  a string\n",
            "ok\n",
            "TRUE\n"
          ]
        }
      ]
    },
    {
      "cell_type": "code",
      "source": [
        "# Create a function that takes two strings as input and determines if one is a rotation of the other. For example, \"waterbottle\" is a rotation of \"erbottlewat\"\n",
        "str1 = input(\"enter a new string : \")\n",
        "str2 = input(\"Enter second string : \")\n",
        "\n",
        "if(len(str1) != len(str2)):\n",
        "  print(\"Length of string is mismatch, either of the string can't be rotation of other one\")\n",
        "\n",
        "else:\n",
        "  combine_str = str1 + str1\n",
        "  if str2 in combine_str:\n",
        "    print(str2 ,\" is rotation of \" ,str1, end = \"\")\n",
        "  else:\n",
        "    print(\"String 2 is not a Rotation of String One, inspite of having same length\")"
      ],
      "metadata": {
        "colab": {
          "base_uri": "https://localhost:8080/"
        },
        "id": "aLjgDaUAhsPa",
        "outputId": "50e75b5a-4c79-4b17-eb43-0a74678e3c16"
      },
      "execution_count": 41,
      "outputs": [
        {
          "output_type": "stream",
          "name": "stdout",
          "text": [
            "enter a new string : water\n",
            "Enter second string : erwat\n",
            "erwat  is rotation of  water"
          ]
        }
      ]
    },
    {
      "cell_type": "code",
      "source": [
        "# 5. Create a function that takes a string as input and returns an encrypted version of the string by shifting each character by a certain number of positions in the alphabet.\n",
        "# The shift value can be provided as an argument. Handle both lowercase and uppercase characters, as well as wrapping around the alphabet.\n",
        "input_string = input(\"Enter a string or sentence\\n\")\n",
        "shift = 5\n",
        "encrypted = []\n",
        "for char in input_string:\n",
        "        if char.isalpha():\n",
        "            is_lower = char.islower()\n",
        "            char = char.lower()\n",
        "            shifted_char = chr(((ord(char) - ord('a') + shift) % 26) + ord('a'))\n",
        "            if not is_lower:\n",
        "                shifted_char = shifted_char.upper()\n",
        "            encrypted.append(shifted_char)\n",
        "        else:\n",
        "            encrypted.append(char)\n",
        "\n",
        "print(\"\".join(encrypted))\n"
      ],
      "metadata": {
        "colab": {
          "base_uri": "https://localhost:8080/"
        },
        "id": "Qq9IbhXGmgai",
        "outputId": "5a5979a0-3a7a-4ca1-a996-5c4a38611c31"
      },
      "execution_count": 50,
      "outputs": [
        {
          "output_type": "stream",
          "name": "stdout",
          "text": [
            "Enter a string or sentence\n",
            "hello\n",
            "mjqqt\n"
          ]
        }
      ]
    },
    {
      "cell_type": "code",
      "source": [
        "def encrypt_string(input_string, shift):\n",
        "    encrypted = []\n",
        "\n",
        "    for char in input_string:\n",
        "        if char.isalpha():\n",
        "            is_lower = char.islower()\n",
        "            char = char.lower()\n",
        "            shifted_char = chr(((ord(char) - ord('a') + shift) % 26) + ord('a'))\n",
        "            if not is_lower:\n",
        "                shifted_char = shifted_char.upper()\n",
        "            encrypted.append(shifted_char)\n",
        "        else:\n",
        "            encrypted.append(char)\n",
        "\n",
        "    return ''.join(encrypted)\n",
        "\n",
        "# Test cases\n",
        "original_text = \"Hello, World!\"\n",
        "shifted_text = encrypt_string(original_text, 5)\n",
        "print(shifted_text)"
      ],
      "metadata": {
        "colab": {
          "base_uri": "https://localhost:8080/"
        },
        "id": "eCJ79-Xiqy4r",
        "outputId": "de872e50-8b73-46a9-fba6-bd59326feb67"
      },
      "execution_count": 47,
      "outputs": [
        {
          "output_type": "stream",
          "name": "stdout",
          "text": [
            "Mjqqt, Btwqi!\n"
          ]
        }
      ]
    },
    {
      "cell_type": "code",
      "source": [
        "def decrypt_string(input_string, shift):\n",
        "    encrypted = []\n",
        "\n",
        "    for char in input_string:\n",
        "        if char.isalpha():\n",
        "            is_lower = char.islower()\n",
        "            char = char.lower()\n",
        "            shifted_char = chr(((ord(char) - ord('a') - shift) % 26) + ord('a'))\n",
        "            if not is_lower:\n",
        "                shifted_char = shifted_char.upper()\n",
        "            encrypted.append(shifted_char)\n",
        "        else:\n",
        "            encrypted.append(char)\n",
        "\n",
        "    return ''.join(encrypted)\n",
        "\n",
        "# Test cases\n",
        "original_text = \"Mjqqt, Btwqi!\"\n",
        "shifted_text = decrypt_string(original_text, 5)\n",
        "print(shifted_text)"
      ],
      "metadata": {
        "colab": {
          "base_uri": "https://localhost:8080/"
        },
        "id": "o1mDG9sWr9Yo",
        "outputId": "1f263882-a474-4f1d-d01a-4206bbba77bd"
      },
      "execution_count": 57,
      "outputs": [
        {
          "output_type": "stream",
          "name": "stdout",
          "text": [
            "Hello, World!\n"
          ]
        }
      ]
    }
  ]
}